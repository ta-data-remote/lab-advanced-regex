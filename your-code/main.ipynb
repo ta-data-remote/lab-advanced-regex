{
 "cells": [
  {
   "cell_type": "markdown",
   "metadata": {
    "toc": true
   },
   "source": [
    "<h1>Table of Contents<span class=\"tocSkip\"></span></h1>\n",
    "<div class=\"toc\"><ul class=\"toc-item\"><li><span><a href=\"#1.-Use-a-regular-expression-to-find-and-extract-all-vowels-in-the-following-text.\" data-toc-modified-id=\"1.-Use-a-regular-expression-to-find-and-extract-all-vowels-in-the-following-text.-1\"><span class=\"toc-item-num\">1&nbsp;&nbsp;</span>1. Use a regular expression to find and extract all vowels in the following text.</a></span></li><li><span><a href=\"#2.-Use-a-regular-expression-to-find-and-extract-all-occurrences-and-tenses-(singular-and-plural)-of-the-word-&quot;puppy&quot;-in-the-text-below.\" data-toc-modified-id=\"2.-Use-a-regular-expression-to-find-and-extract-all-occurrences-and-tenses-(singular-and-plural)-of-the-word-&quot;puppy&quot;-in-the-text-below.-2\"><span class=\"toc-item-num\">2&nbsp;&nbsp;</span>2. Use a regular expression to find and extract all occurrences and tenses (singular and plural) of the word \"puppy\" in the text below.</a></span></li><li><span><a href=\"#3.-Use-a-regular-expression-to-find-and-extract-all-tenses-(present-and-past)-of-the-word-&quot;run&quot;-in-the-text-below.\" data-toc-modified-id=\"3.-Use-a-regular-expression-to-find-and-extract-all-tenses-(present-and-past)-of-the-word-&quot;run&quot;-in-the-text-below.-3\"><span class=\"toc-item-num\">3&nbsp;&nbsp;</span>3. Use a regular expression to find and extract all tenses (present and past) of the word \"run\" in the text below.</a></span></li><li><span><a href=\"#4.-Use-a-regular-expression-to-find-and-extract-all-words-that-begin-with-the-letter-&quot;r&quot;-from-the-previous-text.\" data-toc-modified-id=\"4.-Use-a-regular-expression-to-find-and-extract-all-words-that-begin-with-the-letter-&quot;r&quot;-from-the-previous-text.-4\"><span class=\"toc-item-num\">4&nbsp;&nbsp;</span>4. Use a regular expression to find and extract all words that begin with the letter \"r\" from the previous text.</a></span></li><li><span><a href=\"#5.-Use-a-regular-expression-to-find-and-substitute-the-letter-&quot;i&quot;-for-the-exclamation-marks-in-the-text-below.\" data-toc-modified-id=\"5.-Use-a-regular-expression-to-find-and-substitute-the-letter-&quot;i&quot;-for-the-exclamation-marks-in-the-text-below.-5\"><span class=\"toc-item-num\">5&nbsp;&nbsp;</span>5. Use a regular expression to find and substitute the letter \"i\" for the exclamation marks in the text below.</a></span></li><li><span><a href=\"#6.-Use-a-regular-expression-to-find-and-extract-words-longer-than-4-characters-in-the-text-below.\" data-toc-modified-id=\"6.-Use-a-regular-expression-to-find-and-extract-words-longer-than-4-characters-in-the-text-below.-6\"><span class=\"toc-item-num\">6&nbsp;&nbsp;</span>6. Use a regular expression to find and extract words longer than 4 characters in the text below.</a></span></li><li><span><a href=\"#7.-Use-a-regular-expression-to-find-and-extract-all-occurrences-of-the-letter-&quot;b&quot;,-some-letter(s),-and-then-the-letter-&quot;t&quot;-in-the-sentence-below.\" data-toc-modified-id=\"7.-Use-a-regular-expression-to-find-and-extract-all-occurrences-of-the-letter-&quot;b&quot;,-some-letter(s),-and-then-the-letter-&quot;t&quot;-in-the-sentence-below.-7\"><span class=\"toc-item-num\">7&nbsp;&nbsp;</span>7. Use a regular expression to find and extract all occurrences of the letter \"b\", some letter(s), and then the letter \"t\" in the sentence below.</a></span></li><li><span><a href=\"#8.-Use-a-regular-expression-to-find-and-extract-all-words-that-contain-either-&quot;ea&quot;-or-&quot;eo&quot;-in-them.\" data-toc-modified-id=\"8.-Use-a-regular-expression-to-find-and-extract-all-words-that-contain-either-&quot;ea&quot;-or-&quot;eo&quot;-in-them.-8\"><span class=\"toc-item-num\">8&nbsp;&nbsp;</span>8. Use a regular expression to find and extract all words that contain either \"ea\" or \"eo\" in them.</a></span></li><li><span><a href=\"#9.-Use-a-regular-expression-to-find-and-extract-all-the-capitalized-words-in-the-text-below-individually.\" data-toc-modified-id=\"9.-Use-a-regular-expression-to-find-and-extract-all-the-capitalized-words-in-the-text-below-individually.-9\"><span class=\"toc-item-num\">9&nbsp;&nbsp;</span>9. Use a regular expression to find and extract all the capitalized words in the text below individually.</a></span></li><li><span><a href=\"#10.-Use-a-regular-expression-to-find-and-extract-all-the-sets-of-consecutive-capitalized-words-in-the-text-above.\" data-toc-modified-id=\"10.-Use-a-regular-expression-to-find-and-extract-all-the-sets-of-consecutive-capitalized-words-in-the-text-above.-10\"><span class=\"toc-item-num\">10&nbsp;&nbsp;</span>10. Use a regular expression to find and extract all the sets of consecutive capitalized words in the text above.</a></span></li><li><span><a href=\"#11.-Use-a-regular-expression-to-find-and-extract-all-the-quotes-from-the-text-below.\" data-toc-modified-id=\"11.-Use-a-regular-expression-to-find-and-extract-all-the-quotes-from-the-text-below.-11\"><span class=\"toc-item-num\">11&nbsp;&nbsp;</span>11. Use a regular expression to find and extract all the quotes from the text below.</a></span></li><li><span><a href=\"#12.-Use-a-regular-expression-to-find-and-extract-all-the-numbers-from-the-text-below.\" data-toc-modified-id=\"12.-Use-a-regular-expression-to-find-and-extract-all-the-numbers-from-the-text-below.-12\"><span class=\"toc-item-num\">12&nbsp;&nbsp;</span>12. Use a regular expression to find and extract all the numbers from the text below.</a></span></li><li><span><a href=\"#13.-Use-a-regular-expression-to-find-and-extract-all-the-social-security-numbers-from-the-text-below.\" data-toc-modified-id=\"13.-Use-a-regular-expression-to-find-and-extract-all-the-social-security-numbers-from-the-text-below.-13\"><span class=\"toc-item-num\">13&nbsp;&nbsp;</span>13. Use a regular expression to find and extract all the social security numbers from the text below.</a></span></li><li><span><a href=\"#14.-Use-a-regular-expression-to-find-and-extract-all-the-phone-numbers-from-the-text-below.\" data-toc-modified-id=\"14.-Use-a-regular-expression-to-find-and-extract-all-the-phone-numbers-from-the-text-below.-14\"><span class=\"toc-item-num\">14&nbsp;&nbsp;</span>14. Use a regular expression to find and extract all the phone numbers from the text below.</a></span></li><li><span><a href=\"#15.-Use-a-regular-expression-to-find-and-extract-all-the-formatted-numbers-(both-social-security-and-phone)-from-the-text-below.\" data-toc-modified-id=\"15.-Use-a-regular-expression-to-find-and-extract-all-the-formatted-numbers-(both-social-security-and-phone)-from-the-text-below.-15\"><span class=\"toc-item-num\">15&nbsp;&nbsp;</span>15. Use a regular expression to find and extract all the formatted numbers (both social security and phone) from the text below.</a></span></li></ul></div>"
   ]
  },
  {
   "cell_type": "markdown",
   "metadata": {},
   "source": [
    "# Advanced Regular Expressions\n",
    "\n",
    "Complete the following set of exercises to solidify your knowledge of regular expressions."
   ]
  },
  {
   "cell_type": "code",
   "execution_count": 2,
   "metadata": {},
   "outputs": [],
   "source": [
    "import re"
   ]
  },
  {
   "cell_type": "markdown",
   "metadata": {},
   "source": [
    "### 1. Use a regular expression to find and extract all vowels in the following text."
   ]
  },
  {
   "cell_type": "code",
   "execution_count": 4,
   "metadata": {},
   "outputs": [],
   "source": [
    "text = \"This is going to be a sentence with a good number of vowels in it.\""
   ]
  },
  {
   "cell_type": "code",
   "execution_count": 13,
   "metadata": {},
   "outputs": [
    {
     "data": {
      "text/plain": [
       "['i',\n",
       " 'i',\n",
       " 'o',\n",
       " 'i',\n",
       " 'o',\n",
       " 'e',\n",
       " 'a',\n",
       " 'e',\n",
       " 'e',\n",
       " 'e',\n",
       " 'i',\n",
       " 'a',\n",
       " 'o',\n",
       " 'o',\n",
       " 'u',\n",
       " 'e',\n",
       " 'o',\n",
       " 'o',\n",
       " 'e',\n",
       " 'i',\n",
       " 'i']"
      ]
     },
     "execution_count": 13,
     "metadata": {},
     "output_type": "execute_result"
    }
   ],
   "source": [
    "#extract all the matches\n",
    "re.findall(\"[a,e,i,o,u,A,E,I,O,U]\",text)"
   ]
  },
  {
   "cell_type": "markdown",
   "metadata": {},
   "source": [
    "### 2. Use a regular expression to find and extract all occurrences and tenses (singular and plural) of the word \"puppy\" in the text below."
   ]
  },
  {
   "cell_type": "code",
   "execution_count": 21,
   "metadata": {},
   "outputs": [],
   "source": [
    "text = \"The puppy saw all the rest of the puppies playing and wanted to join them. I saw this and wanted a puppy of my own!\""
   ]
  },
  {
   "cell_type": "code",
   "execution_count": 26,
   "metadata": {},
   "outputs": [
    {
     "data": {
      "text/plain": [
       "['puppy', 'puppies', 'puppy']"
      ]
     },
     "execution_count": 26,
     "metadata": {},
     "output_type": "execute_result"
    }
   ],
   "source": [
    "re.findall(\"pup\\w+\",text)"
   ]
  },
  {
   "cell_type": "markdown",
   "metadata": {},
   "source": [
    "### 3. Use a regular expression to find and extract all tenses (present and past) of the word \"run\" in the text below."
   ]
  },
  {
   "cell_type": "code",
   "execution_count": 31,
   "metadata": {},
   "outputs": [],
   "source": [
    "text = \"I ran the relay race the only way I knew how to run it.\""
   ]
  },
  {
   "cell_type": "code",
   "execution_count": 32,
   "metadata": {},
   "outputs": [
    {
     "data": {
      "text/plain": [
       "['ran', 'run']"
      ]
     },
     "execution_count": 32,
     "metadata": {},
     "output_type": "execute_result"
    }
   ],
   "source": [
    "re.findall(\"r[a-z]n\",text)"
   ]
  },
  {
   "cell_type": "markdown",
   "metadata": {},
   "source": [
    "### 4. Use a regular expression to find and extract all words that begin with the letter \"r\" from the previous text."
   ]
  },
  {
   "cell_type": "code",
   "execution_count": 34,
   "metadata": {},
   "outputs": [
    {
     "data": {
      "text/plain": [
       "['ran', 'relay', 'race', 'run']"
      ]
     },
     "execution_count": 34,
     "metadata": {},
     "output_type": "execute_result"
    }
   ],
   "source": [
    "re.findall(\"r\\w+\",text)"
   ]
  },
  {
   "cell_type": "markdown",
   "metadata": {},
   "source": [
    "### 5. Use a regular expression to find and substitute the letter \"i\" for the exclamation marks in the text below."
   ]
  },
  {
   "cell_type": "code",
   "execution_count": 35,
   "metadata": {},
   "outputs": [],
   "source": [
    "text = \"Th!s !s a sentence w!th spec!al characters !n !t.\""
   ]
  },
  {
   "cell_type": "code",
   "execution_count": 36,
   "metadata": {},
   "outputs": [
    {
     "data": {
      "text/plain": [
       "'This is a sentence with special characters in it.'"
      ]
     },
     "execution_count": 36,
     "metadata": {},
     "output_type": "execute_result"
    }
   ],
   "source": [
    "re.sub(\"!\",\"i\", text)"
   ]
  },
  {
   "cell_type": "markdown",
   "metadata": {},
   "source": [
    "### 6. Use a regular expression to find and extract words longer than 4 characters in the text below."
   ]
  },
  {
   "cell_type": "code",
   "execution_count": 40,
   "metadata": {},
   "outputs": [],
   "source": [
    "text = \"This sentence has words of varying lengths.\""
   ]
  },
  {
   "cell_type": "code",
   "execution_count": 42,
   "metadata": {},
   "outputs": [
    {
     "data": {
      "text/plain": [
       "['This', 'sentence', 'words', 'varying', 'lengths']"
      ]
     },
     "execution_count": 42,
     "metadata": {},
     "output_type": "execute_result"
    }
   ],
   "source": [
    "re.findall(r\"\\b\\w{4,}\",text)"
   ]
  },
  {
   "cell_type": "markdown",
   "metadata": {},
   "source": [
    "### 7. Use a regular expression to find and extract all occurrences of the letter \"b\", some letter(s), and then the letter \"t\" in the sentence below. \n",
    "Ex. beat, bat & bot."
   ]
  },
  {
   "cell_type": "code",
   "execution_count": 44,
   "metadata": {},
   "outputs": [],
   "source": [
    "text = \"I bet the robot couldn't beat the other bot with a bat, but instead it bit me.\""
   ]
  },
  {
   "cell_type": "code",
   "execution_count": 50,
   "metadata": {},
   "outputs": [
    {
     "data": {
      "text/plain": [
       "['bet', 'robot', 'beat', 'bot', 'bat', 'but', 'bit']"
      ]
     },
     "execution_count": 50,
     "metadata": {},
     "output_type": "execute_result"
    }
   ],
   "source": [
    "re.findall(\"\\w*b\\w+t\",text)"
   ]
  },
  {
   "cell_type": "markdown",
   "metadata": {},
   "source": [
    "### 8. Use a regular expression to find and extract all words that contain either \"ea\" or \"eo\" in them."
   ]
  },
  {
   "cell_type": "code",
   "execution_count": 51,
   "metadata": {},
   "outputs": [],
   "source": [
    "text = \"During many of the peaks and troughs of history, the people living it didn't fully realize what was unfolding. But we all know we're navigating breathtaking history: Nearly every day could be — maybe will be — a book.\"\n"
   ]
  },
  {
   "cell_type": "code",
   "execution_count": 54,
   "metadata": {},
   "outputs": [
    {
     "data": {
      "text/plain": [
       "['peaks', 'people', 'realize', 'breathtaking', 'Nearly']"
      ]
     },
     "execution_count": 54,
     "metadata": {},
     "output_type": "execute_result"
    }
   ],
   "source": [
    "re.findall(\"\\w*e[a,o]\\w+\",text, re.IGNORECASE)"
   ]
  },
  {
   "cell_type": "markdown",
   "metadata": {},
   "source": [
    "### 9. Use a regular expression to find and extract all the capitalized words in the text below individually."
   ]
  },
  {
   "cell_type": "code",
   "execution_count": 55,
   "metadata": {},
   "outputs": [],
   "source": [
    "text = \"Teddy Roosevelt and Abraham Lincoln walk into a bar.\""
   ]
  },
  {
   "cell_type": "code",
   "execution_count": 56,
   "metadata": {},
   "outputs": [
    {
     "data": {
      "text/plain": [
       "['Teddy', 'Roosevelt', 'Abraham', 'Lincoln']"
      ]
     },
     "execution_count": 56,
     "metadata": {},
     "output_type": "execute_result"
    }
   ],
   "source": [
    "re.findall(\"[A-Z]\\w+\",text)"
   ]
  },
  {
   "cell_type": "markdown",
   "metadata": {},
   "source": [
    "### 10. Use a regular expression to find and extract all the sets of consecutive capitalized words in the text above."
   ]
  },
  {
   "cell_type": "code",
   "execution_count": 57,
   "metadata": {},
   "outputs": [
    {
     "data": {
      "text/plain": [
       "['Teddy Roosevelt', 'Abraham Lincoln']"
      ]
     },
     "execution_count": 57,
     "metadata": {},
     "output_type": "execute_result"
    }
   ],
   "source": [
    "re.findall(\"[A-Z]\\w+ [A-Z]\\w+\",text)"
   ]
  },
  {
   "cell_type": "markdown",
   "metadata": {},
   "source": [
    "### 11. Use a regular expression to find and extract all the quotes from the text below.\n",
    "\n",
    "*Hint: This one is a little more complex than the single quote example in the lesson because there are multiple quotes in the text.*"
   ]
  },
  {
   "cell_type": "code",
   "execution_count": 3,
   "metadata": {},
   "outputs": [],
   "source": [
    "text = 'Roosevelt says to Lincoln, \"I will bet you $50 I can get the bartender to give me a free drink.\" Lincoln says, \"I am in!\"'\n"
   ]
  },
  {
   "cell_type": "code",
   "execution_count": 8,
   "metadata": {},
   "outputs": [
    {
     "data": {
      "text/plain": [
       "['I will bet you $50 I can get the bartender to give me a free drink.',\n",
       " 'I am in!']"
      ]
     },
     "execution_count": 8,
     "metadata": {},
     "output_type": "execute_result"
    }
   ],
   "source": [
    "re.findall('''\"(.*?)\"''',text)"
   ]
  },
  {
   "cell_type": "markdown",
   "metadata": {},
   "source": [
    "### 12. Use a regular expression to find and extract all the numbers from the text below."
   ]
  },
  {
   "cell_type": "code",
   "execution_count": 9,
   "metadata": {},
   "outputs": [],
   "source": [
    "text = \"There were 30 students in the class. Of the 30 students, 14 were male and 16 were female. Only 10 students got A's on the exam.\"\n"
   ]
  },
  {
   "cell_type": "code",
   "execution_count": 11,
   "metadata": {},
   "outputs": [
    {
     "data": {
      "text/plain": [
       "['30', '30', '14', '16', '10']"
      ]
     },
     "execution_count": 11,
     "metadata": {},
     "output_type": "execute_result"
    }
   ],
   "source": [
    "re.findall(\"\\d.\",text)"
   ]
  },
  {
   "cell_type": "markdown",
   "metadata": {},
   "source": [
    "### 13. Use a regular expression to find and extract all the social security numbers from the text below."
   ]
  },
  {
   "cell_type": "code",
   "execution_count": 13,
   "metadata": {},
   "outputs": [],
   "source": [
    "text = \"\"\"\n",
    "Henry's social security number is 876-93-2289 and his phone number is (847)789-0984.\n",
    "Darlene's social security number is 098-32-5295 and her phone number is (987)222-0901.\n",
    "\"\"\""
   ]
  },
  {
   "cell_type": "code",
   "execution_count": 14,
   "metadata": {},
   "outputs": [
    {
     "data": {
      "text/plain": [
       "['876-93-2289', '098-32-5295']"
      ]
     },
     "execution_count": 14,
     "metadata": {},
     "output_type": "execute_result"
    }
   ],
   "source": [
    "re.findall(\"\\d+-+\\d+-+\\d+\",text)"
   ]
  },
  {
   "cell_type": "markdown",
   "metadata": {},
   "source": [
    "### 14. Use a regular expression to find and extract all the phone numbers from the text below."
   ]
  },
  {
   "cell_type": "code",
   "execution_count": 15,
   "metadata": {},
   "outputs": [
    {
     "data": {
      "text/plain": [
       "['(847)789-0984', '(987)222-0901']"
      ]
     },
     "execution_count": 15,
     "metadata": {},
     "output_type": "execute_result"
    }
   ],
   "source": [
    "re.findall(\"([(].+)[.]\",text)"
   ]
  },
  {
   "cell_type": "markdown",
   "metadata": {},
   "source": [
    "### 15. Use a regular expression to find and extract all the formatted numbers (both social security and phone) from the text below."
   ]
  },
  {
   "cell_type": "code",
   "execution_count": 17,
   "metadata": {},
   "outputs": [
    {
     "data": {
      "text/plain": [
       "[' 876-93-2289', '(847)789-0984', ' 098-32-5295', '(987)222-0901']"
      ]
     },
     "execution_count": 17,
     "metadata": {},
     "output_type": "execute_result"
    }
   ],
   "source": [
    "#i can not take the first parentesis\n",
    "re.findall(\".\\d+.\\d+-+\\d+\",text)"
   ]
  }
 ],
 "metadata": {
  "kernelspec": {
   "display_name": "Python 3",
   "language": "python",
   "name": "python3"
  },
  "language_info": {
   "codemirror_mode": {
    "name": "ipython",
    "version": 3
   },
   "file_extension": ".py",
   "mimetype": "text/x-python",
   "name": "python",
   "nbconvert_exporter": "python",
   "pygments_lexer": "ipython3",
   "version": "3.8.8"
  },
  "toc": {
   "base_numbering": 1,
   "nav_menu": {},
   "number_sections": true,
   "sideBar": true,
   "skip_h1_title": true,
   "title_cell": "Table of Contents",
   "title_sidebar": "Contents",
   "toc_cell": true,
   "toc_position": {},
   "toc_section_display": true,
   "toc_window_display": false
  }
 },
 "nbformat": 4,
 "nbformat_minor": 2
}
