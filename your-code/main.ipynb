{
 "cells": [
  {
   "cell_type": "markdown",
   "metadata": {},
   "source": [
    "# Advanced Regular Expressions\n",
    "\n",
    "Complete the following set of exercises to solidify your knowledge of regular expressions."
   ]
  },
  {
   "cell_type": "code",
   "execution_count": 2,
   "metadata": {
    "ExecuteTime": {
     "end_time": "2021-03-31T14:18:00.909456Z",
     "start_time": "2021-03-31T14:18:00.879205Z"
    }
   },
   "outputs": [],
   "source": [
    "import re"
   ]
  },
  {
   "cell_type": "markdown",
   "metadata": {},
   "source": [
    "### 1. Use a regular expression to find and extract all vowels in the following text."
   ]
  },
  {
   "cell_type": "code",
   "execution_count": 4,
   "metadata": {
    "ExecuteTime": {
     "end_time": "2021-03-31T14:19:59.365627Z",
     "start_time": "2021-03-31T14:19:59.354119Z"
    }
   },
   "outputs": [],
   "source": [
    "text = \"This is going to be a sentence with a good number of vowels in it.\""
   ]
  },
  {
   "cell_type": "code",
   "execution_count": 9,
   "metadata": {
    "ExecuteTime": {
     "end_time": "2021-03-31T14:21:03.221267Z",
     "start_time": "2021-03-31T14:21:03.190696Z"
    }
   },
   "outputs": [
    {
     "data": {
      "text/plain": [
       "['i',\n",
       " 'i',\n",
       " 'o',\n",
       " 'i',\n",
       " 'o',\n",
       " 'e',\n",
       " 'a',\n",
       " 'e',\n",
       " 'e',\n",
       " 'e',\n",
       " 'i',\n",
       " 'a',\n",
       " 'o',\n",
       " 'o',\n",
       " 'u',\n",
       " 'e',\n",
       " 'o',\n",
       " 'o',\n",
       " 'e',\n",
       " 'i',\n",
       " 'i']"
      ]
     },
     "execution_count": 9,
     "metadata": {},
     "output_type": "execute_result"
    }
   ],
   "source": [
    "re.findall(\"[aeiou]\",text)"
   ]
  },
  {
   "cell_type": "markdown",
   "metadata": {},
   "source": [
    "### 2. Use a regular expression to find and extract all occurrences and tenses (singular and plural) of the word \"puppy\" in the text below."
   ]
  },
  {
   "cell_type": "code",
   "execution_count": 10,
   "metadata": {
    "ExecuteTime": {
     "end_time": "2021-03-31T14:21:37.165195Z",
     "start_time": "2021-03-31T14:21:37.159984Z"
    }
   },
   "outputs": [],
   "source": [
    "text = \"The puppy saw all the rest of the puppies playing and wanted to join them. I saw this and wanted a puppy of my own!\""
   ]
  },
  {
   "cell_type": "code",
   "execution_count": 25,
   "metadata": {
    "ExecuteTime": {
     "end_time": "2021-03-31T14:28:33.972261Z",
     "start_time": "2021-03-31T14:28:33.942162Z"
    }
   },
   "outputs": [
    {
     "data": {
      "text/plain": [
       "['puppy', 'puppies', 'puppy']"
      ]
     },
     "execution_count": 25,
     "metadata": {},
     "output_type": "execute_result"
    }
   ],
   "source": [
    "re.findall(\"(puppy|puppies)\",text)"
   ]
  },
  {
   "cell_type": "markdown",
   "metadata": {},
   "source": [
    "### 3. Use a regular expression to find and extract all tenses (present and past) of the word \"run\" in the text below."
   ]
  },
  {
   "cell_type": "code",
   "execution_count": 26,
   "metadata": {
    "ExecuteTime": {
     "end_time": "2021-03-31T14:30:10.007397Z",
     "start_time": "2021-03-31T14:30:10.002339Z"
    }
   },
   "outputs": [],
   "source": [
    "text = \"I ran the relay race the only way I knew how to run it.\""
   ]
  },
  {
   "cell_type": "code",
   "execution_count": 27,
   "metadata": {
    "ExecuteTime": {
     "end_time": "2021-03-31T14:30:24.153272Z",
     "start_time": "2021-03-31T14:30:24.141032Z"
    }
   },
   "outputs": [
    {
     "data": {
      "text/plain": [
       "['ran', 'run']"
      ]
     },
     "execution_count": 27,
     "metadata": {},
     "output_type": "execute_result"
    }
   ],
   "source": [
    "re.findall(\"(run|ran)\",text)"
   ]
  },
  {
   "cell_type": "markdown",
   "metadata": {},
   "source": [
    "### 4. Use a regular expression to find and extract all words that begin with the letter \"r\" from the previous text."
   ]
  },
  {
   "cell_type": "code",
   "execution_count": 37,
   "metadata": {
    "ExecuteTime": {
     "end_time": "2021-03-31T14:32:39.394180Z",
     "start_time": "2021-03-31T14:32:39.381654Z"
    }
   },
   "outputs": [
    {
     "data": {
      "text/plain": [
       "['ran', 'relay', 'race', 'run']"
      ]
     },
     "execution_count": 37,
     "metadata": {},
     "output_type": "execute_result"
    }
   ],
   "source": [
    "re.findall(\"r\\S*\",text)"
   ]
  },
  {
   "cell_type": "markdown",
   "metadata": {},
   "source": [
    "### 5. Use a regular expression to find and substitute the letter \"i\" for the exclamation marks in the text below."
   ]
  },
  {
   "cell_type": "code",
   "execution_count": 38,
   "metadata": {
    "ExecuteTime": {
     "end_time": "2021-03-31T14:32:46.365831Z",
     "start_time": "2021-03-31T14:32:46.359422Z"
    }
   },
   "outputs": [],
   "source": [
    "text = \"Th!s !s a sentence w!th spec!al characters !n !t.\""
   ]
  },
  {
   "cell_type": "code",
   "execution_count": 39,
   "metadata": {
    "ExecuteTime": {
     "end_time": "2021-03-31T14:34:18.028491Z",
     "start_time": "2021-03-31T14:34:17.999384Z"
    }
   },
   "outputs": [
    {
     "data": {
      "text/plain": [
       "'This is a sentence with special characters in it.'"
      ]
     },
     "execution_count": 39,
     "metadata": {},
     "output_type": "execute_result"
    }
   ],
   "source": [
    "re.sub(\"!\",\"i\",text)"
   ]
  },
  {
   "cell_type": "markdown",
   "metadata": {},
   "source": [
    "### 6. Use a regular expression to find and extract words longer than 4 characters in the text below."
   ]
  },
  {
   "cell_type": "code",
   "execution_count": 40,
   "metadata": {
    "ExecuteTime": {
     "end_time": "2021-03-31T14:34:27.661207Z",
     "start_time": "2021-03-31T14:34:27.646720Z"
    }
   },
   "outputs": [],
   "source": [
    "text = \"This sentence has words of varying lengths.\""
   ]
  },
  {
   "cell_type": "code",
   "execution_count": 49,
   "metadata": {
    "ExecuteTime": {
     "end_time": "2021-03-31T14:40:11.469544Z",
     "start_time": "2021-03-31T14:40:11.445777Z"
    }
   },
   "outputs": [
    {
     "data": {
      "text/plain": [
       "['sentence', 'words', 'varying', 'lengths']"
      ]
     },
     "execution_count": 49,
     "metadata": {},
     "output_type": "execute_result"
    }
   ],
   "source": [
    "re.findall(\"\\w{5,}\",text)"
   ]
  },
  {
   "cell_type": "markdown",
   "metadata": {},
   "source": [
    "### 7. Use a regular expression to find and extract all occurrences of the letter \"b\", some letter(s), and then the letter \"t\" in the sentence below. \n",
    "Ex. beat, bat & bot."
   ]
  },
  {
   "cell_type": "code",
   "execution_count": 138,
   "metadata": {
    "ExecuteTime": {
     "end_time": "2021-03-31T15:05:42.265228Z",
     "start_time": "2021-03-31T15:05:42.248863Z"
    }
   },
   "outputs": [],
   "source": [
    "text = \"be I bet the robot couldn't beat the other bot with a bat, but instead it bit me.\""
   ]
  },
  {
   "cell_type": "code",
   "execution_count": 143,
   "metadata": {
    "ExecuteTime": {
     "end_time": "2021-03-31T15:06:13.434586Z",
     "start_time": "2021-03-31T15:06:13.413100Z"
    }
   },
   "outputs": [
    {
     "data": {
      "text/plain": [
       "['bet', 'beat', 'bot', 'bat', 'but', 'bit']"
      ]
     },
     "execution_count": 143,
     "metadata": {},
     "output_type": "execute_result"
    }
   ],
   "source": [
    "re.findall(r\"\\bb\\w+t\",text)"
   ]
  },
  {
   "cell_type": "markdown",
   "metadata": {},
   "source": [
    "### 8. Use a regular expression to find and extract all words that contain either \"ea\" or \"eo\" in them."
   ]
  },
  {
   "cell_type": "code",
   "execution_count": 151,
   "metadata": {
    "ExecuteTime": {
     "end_time": "2021-03-31T15:09:37.282329Z",
     "start_time": "2021-03-31T15:09:37.274174Z"
    }
   },
   "outputs": [],
   "source": [
    "text = \"During many of the peaks and troughs of history, the people living it didn't fully realize what was unfolding. But we all know we're navigating breathtaking history: Nearly every day could be — maybe will be — a book.\"\n"
   ]
  },
  {
   "cell_type": "code",
   "execution_count": 152,
   "metadata": {
    "ExecuteTime": {
     "end_time": "2021-03-31T15:09:38.653127Z",
     "start_time": "2021-03-31T15:09:38.643885Z"
    }
   },
   "outputs": [
    {
     "data": {
      "text/plain": [
       "['peaks', 'people', 'realize', 'breathtaking', 'Nearly']"
      ]
     },
     "execution_count": 152,
     "metadata": {},
     "output_type": "execute_result"
    }
   ],
   "source": [
    "re.findall(r\"\\w+ea\\w+|\\w+eo\\w+\",text)"
   ]
  },
  {
   "cell_type": "markdown",
   "metadata": {},
   "source": [
    "### 9. Use a regular expression to find and extract all the capitalized words in the text below individually."
   ]
  },
  {
   "cell_type": "code",
   "execution_count": 155,
   "metadata": {
    "ExecuteTime": {
     "end_time": "2021-03-31T15:10:03.527448Z",
     "start_time": "2021-03-31T15:10:03.511292Z"
    }
   },
   "outputs": [],
   "source": [
    "text = \"Teddy Roosevelt and Abraham Lincoln walk into a bar.\""
   ]
  },
  {
   "cell_type": "code",
   "execution_count": 150,
   "metadata": {
    "ExecuteTime": {
     "end_time": "2021-03-31T15:09:34.843344Z",
     "start_time": "2021-03-31T15:09:34.833750Z"
    }
   },
   "outputs": [
    {
     "data": {
      "text/plain": [
       "['Teddy', 'Roosevelt', 'Abraham', 'Lincoln']"
      ]
     },
     "execution_count": 150,
     "metadata": {},
     "output_type": "execute_result"
    }
   ],
   "source": [
    "re.findall(r\"[A-Z]\\w*\",text)"
   ]
  },
  {
   "cell_type": "markdown",
   "metadata": {},
   "source": [
    "### 10. Use a regular expression to find and extract all the sets of consecutive capitalized words in the text above."
   ]
  },
  {
   "cell_type": "code",
   "execution_count": 157,
   "metadata": {
    "ExecuteTime": {
     "end_time": "2021-03-31T15:10:08.492599Z",
     "start_time": "2021-03-31T15:10:08.445840Z"
    }
   },
   "outputs": [
    {
     "data": {
      "text/plain": [
       "['Teddy Roosevelt', 'Abraham Lincoln']"
      ]
     },
     "execution_count": 157,
     "metadata": {},
     "output_type": "execute_result"
    }
   ],
   "source": [
    "re.findall(r\"[A-Z]\\w*\\s[A-Z]\\w*\",text)"
   ]
  },
  {
   "cell_type": "markdown",
   "metadata": {},
   "source": [
    "### 11. Use a regular expression to find and extract all the quotes from the text below.\n",
    "\n",
    "*Hint: This one is a little more complex than the single quote example in the lesson because there are multiple quotes in the text.*"
   ]
  },
  {
   "cell_type": "code",
   "execution_count": 165,
   "metadata": {
    "ExecuteTime": {
     "end_time": "2021-03-31T15:18:56.776136Z",
     "start_time": "2021-03-31T15:18:56.763122Z"
    }
   },
   "outputs": [],
   "source": [
    "text = 'Roosevelt says to Lincoln, \"I will bet you $50 I can get the bartender to give me a free drink.\" Lincoln says, \"I am in!\"'\n"
   ]
  },
  {
   "cell_type": "code",
   "execution_count": 179,
   "metadata": {
    "ExecuteTime": {
     "end_time": "2021-03-31T15:31:41.332151Z",
     "start_time": "2021-03-31T15:31:41.315610Z"
    }
   },
   "outputs": [
    {
     "data": {
      "text/plain": [
       "['\"I will bet you $50 I can get the bartender to give me a free drink.\"',\n",
       " '\"I am in!\"']"
      ]
     },
     "execution_count": 179,
     "metadata": {},
     "output_type": "execute_result"
    }
   ],
   "source": [
    "re.findall(r'\".+?\"',text)"
   ]
  },
  {
   "cell_type": "markdown",
   "metadata": {},
   "source": [
    "### 12. Use a regular expression to find and extract all the numbers from the text below."
   ]
  },
  {
   "cell_type": "code",
   "execution_count": 181,
   "metadata": {
    "ExecuteTime": {
     "end_time": "2021-03-31T16:24:14.579132Z",
     "start_time": "2021-03-31T16:24:14.564533Z"
    }
   },
   "outputs": [],
   "source": [
    "text = \"There were 30 students in the class. Of the 30 students, 14 were male and 16 were female. Only 10 students got A's on the exam.\"\n"
   ]
  },
  {
   "cell_type": "code",
   "execution_count": 182,
   "metadata": {
    "ExecuteTime": {
     "end_time": "2021-03-31T16:24:30.276484Z",
     "start_time": "2021-03-31T16:24:30.264642Z"
    }
   },
   "outputs": [
    {
     "data": {
      "text/plain": [
       "['30', '30', '14', '16', '10']"
      ]
     },
     "execution_count": 182,
     "metadata": {},
     "output_type": "execute_result"
    }
   ],
   "source": [
    "re.findall(\"\\d+\",text)"
   ]
  },
  {
   "cell_type": "markdown",
   "metadata": {},
   "source": [
    "### 13. Use a regular expression to find and extract all the social security numbers from the text below."
   ]
  },
  {
   "cell_type": "code",
   "execution_count": 186,
   "metadata": {
    "ExecuteTime": {
     "end_time": "2021-03-31T16:29:56.335557Z",
     "start_time": "2021-03-31T16:29:56.331546Z"
    }
   },
   "outputs": [],
   "source": [
    "text = \"\"\"\n",
    "Henry's social security number is 876-93-2289 and his phone number is (847)789-0984.\n",
    "Darlene's social security number is 098-32-5295 and her phone number is (987)222-0901.\n",
    "\"\"\""
   ]
  },
  {
   "cell_type": "code",
   "execution_count": 195,
   "metadata": {
    "ExecuteTime": {
     "end_time": "2021-03-31T16:31:37.765610Z",
     "start_time": "2021-03-31T16:31:37.757860Z"
    }
   },
   "outputs": [
    {
     "data": {
      "text/plain": [
       "['876-93-2289', '098-32-5295']"
      ]
     },
     "execution_count": 195,
     "metadata": {},
     "output_type": "execute_result"
    }
   ],
   "source": [
    "re.findall(r\"\\d+-\\d+-\\d+\",text)"
   ]
  },
  {
   "cell_type": "markdown",
   "metadata": {},
   "source": [
    "### 14. Use a regular expression to find and extract all the phone numbers from the text below."
   ]
  },
  {
   "cell_type": "code",
   "execution_count": 194,
   "metadata": {
    "ExecuteTime": {
     "end_time": "2021-03-31T16:31:22.192317Z",
     "start_time": "2021-03-31T16:31:22.184909Z"
    }
   },
   "outputs": [
    {
     "data": {
      "text/plain": [
       "['(847)789-0984', '(987)222-0901']"
      ]
     },
     "execution_count": 194,
     "metadata": {},
     "output_type": "execute_result"
    }
   ],
   "source": [
    "re.findall(r\"\\(\\d+\\)\\d+-\\d+\",text)"
   ]
  },
  {
   "cell_type": "markdown",
   "metadata": {},
   "source": [
    "### 15. Use a regular expression to find and extract all the formatted numbers (both social security and phone) from the text below."
   ]
  },
  {
   "cell_type": "code",
   "execution_count": 197,
   "metadata": {
    "ExecuteTime": {
     "end_time": "2021-03-31T16:33:00.412475Z",
     "start_time": "2021-03-31T16:33:00.404289Z"
    }
   },
   "outputs": [
    {
     "data": {
      "text/plain": [
       "['876-93-2289', '(847)789-0984', '098-32-5295', '(987)222-0901']"
      ]
     },
     "execution_count": 197,
     "metadata": {},
     "output_type": "execute_result"
    }
   ],
   "source": [
    "re.findall(r\"\\d+-\\d+-\\d+|\\(\\d+\\)\\d+-\\d+\",text)"
   ]
  },
  {
   "cell_type": "code",
   "execution_count": 206,
   "metadata": {
    "ExecuteTime": {
     "end_time": "2021-03-31T16:34:58.726536Z",
     "start_time": "2021-03-31T16:34:58.718220Z"
    }
   },
   "outputs": [
    {
     "data": {
      "text/plain": [
       "['876-93-2289', '(847)789-0984', '098-32-5295', '(987)222-0901']"
      ]
     },
     "execution_count": 206,
     "metadata": {},
     "output_type": "execute_result"
    }
   ],
   "source": [
    "re.findall(r\"\\(*\\d+\\)*-*\\d*-\\d*\",text)"
   ]
  }
 ],
 "metadata": {
  "kernelspec": {
   "display_name": "Python 3",
   "language": "python",
   "name": "python3"
  },
  "language_info": {
   "codemirror_mode": {
    "name": "ipython",
    "version": 3
   },
   "file_extension": ".py",
   "mimetype": "text/x-python",
   "name": "python",
   "nbconvert_exporter": "python",
   "pygments_lexer": "ipython3",
   "version": "3.8.2"
  },
  "latex_envs": {
   "LaTeX_envs_menu_present": true,
   "autoclose": false,
   "autocomplete": true,
   "bibliofile": "biblio.bib",
   "cite_by": "apalike",
   "current_citInitial": 1,
   "eqLabelWithNumbers": true,
   "eqNumInitial": 1,
   "hotkeys": {
    "equation": "Ctrl-E",
    "itemize": "Ctrl-I"
   },
   "labels_anchors": false,
   "latex_user_defs": false,
   "report_style_numbering": false,
   "user_envs_cfg": false
  },
  "varInspector": {
   "cols": {
    "lenName": 16,
    "lenType": 16,
    "lenVar": 40
   },
   "kernels_config": {
    "python": {
     "delete_cmd_postfix": "",
     "delete_cmd_prefix": "del ",
     "library": "var_list.py",
     "varRefreshCmd": "print(var_dic_list())"
    },
    "r": {
     "delete_cmd_postfix": ") ",
     "delete_cmd_prefix": "rm(",
     "library": "var_list.r",
     "varRefreshCmd": "cat(var_dic_list()) "
    }
   },
   "types_to_exclude": [
    "module",
    "function",
    "builtin_function_or_method",
    "instance",
    "_Feature"
   ],
   "window_display": false
  }
 },
 "nbformat": 4,
 "nbformat_minor": 2
}
